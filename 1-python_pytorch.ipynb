{
 "cells": [
  {
   "cell_type": "markdown",
   "metadata": {
    "id": "bD-090Y1ZeSL"
   },
   "source": [
    "# COMP5329 - Deep Learning \n",
    "\n",
    "## Tutorial 1 - Python and PyTorch"
   ]
  },
  {
   "cell_type": "markdown",
   "metadata": {
    "id": "XhrePF1rZeSN"
   },
   "source": [
    "**Semester 1, 2021**\n",
    "\n",
    "**Objectives:**\n",
    "\n",
    "* Reviewing Python syntax\n",
    "* Get familiar with scientific computing libraries, such as NumPy.\n",
    "* Get started on PyTorch\n",
    "\n",
    "\n",
    "**Instructions:**\n",
    "\n",
    "* Exercises to be completed on Python 3.7\n",
    "* We recommend using virtual environment or conda locally, or Google Colab on the cloud."
   ]
  },
  {
   "cell_type": "markdown",
   "metadata": {
    "id": "eSj3CHyCZeSQ"
   },
   "source": [
    "# How To Install PyTorch"
   ]
  },
  {
   "cell_type": "markdown",
   "metadata": {
    "id": "NzgK10hGbCaA"
   },
   "source": [
    "With virtual environment.\n",
    "``` \n",
    "virtualenv -p python3 torch-cpu\n",
    "source torch-cpu/bin/activate\n",
    "pip install torch\n",
    "```\n",
    "\n",
    "With conda.\n",
    "```\n",
    "conda install -n torch-cpu pytorch torchvision -c pytorch\n",
    "```\n",
    "\n",
    "With Google Colab, PyTorch is pre-installed and ready to go."
   ]
  },
  {
   "cell_type": "markdown",
   "metadata": {
    "id": "1OYhu8RhZeSX"
   },
   "source": [
    "# Reviewing Python Syntax"
   ]
  },
  {
   "cell_type": "markdown",
   "metadata": {
    "id": "zg-ujLMTRepG"
   },
   "source": [
    "In case you are not familiar with Python, here is a breif introduction for Python"
   ]
  },
  {
   "cell_type": "markdown",
   "metadata": {
    "id": "1kxgZmNoRt1y"
   },
   "source": [
    "# Basic data type"
   ]
  },
  {
   "cell_type": "markdown",
   "metadata": {
    "id": "uYzCemeARwsH"
   },
   "source": [
    "1. number: Integer and float are basic number type in python. We can perform basic calculate with these type of data."
   ]
  },
  {
   "cell_type": "code",
   "execution_count": null,
   "metadata": {
    "colab": {
     "base_uri": "https://localhost:8080/"
    },
    "collapsed": false,
    "executionInfo": {
     "elapsed": 521,
     "status": "ok",
     "timestamp": 1615361009254,
     "user": {
      "displayName": "Jiajun Huang",
      "photoUrl": "https://lh3.googleusercontent.com/a-/AOh14Gj8d6e5ymd2N-ZwrN_XETFQJOZ5sI4sJOZY0d9zRQ=s64",
      "userId": "11643407900358403548"
     },
     "user_tz": -660
    },
    "id": "H5M4GI2_RdAx",
    "outputId": "6826e816-1fed-4949-8f72-7f2ef7cadcec"
   },
   "outputs": [
    {
     "name": "stdout",
     "output_type": "stream",
     "text": [
      "3 <class 'int'>\n"
     ]
    }
   ],
   "source": [
    "x = 3\n",
    "print(x, type(x))"
   ]
  },
  {
   "cell_type": "code",
   "execution_count": null,
   "metadata": {
    "colab": {
     "base_uri": "https://localhost:8080/"
    },
    "collapsed": false,
    "executionInfo": {
     "elapsed": 941,
     "status": "ok",
     "timestamp": 1615361009681,
     "user": {
      "displayName": "Jiajun Huang",
      "photoUrl": "https://lh3.googleusercontent.com/a-/AOh14Gj8d6e5ymd2N-ZwrN_XETFQJOZ5sI4sJOZY0d9zRQ=s64",
      "userId": "11643407900358403548"
     },
     "user_tz": -660
    },
    "id": "y1AQ_KC7T1dx",
    "outputId": "659c6258-8ce7-446d-e3d5-c6da60548861"
   },
   "outputs": [
    {
     "name": "stdout",
     "output_type": "stream",
     "text": [
      "4\n",
      "2\n",
      "6\n",
      "9\n"
     ]
    }
   ],
   "source": [
    "print(x + 1)   # Addition\n",
    "print(x - 1)   # Subtraction\n",
    "print(x * 2)   # Multiplication\n",
    "print(x ** 2)  # Exponentiation"
   ]
  },
  {
   "cell_type": "code",
   "execution_count": null,
   "metadata": {
    "colab": {
     "base_uri": "https://localhost:8080/"
    },
    "collapsed": false,
    "executionInfo": {
     "elapsed": 934,
     "status": "ok",
     "timestamp": 1615361009681,
     "user": {
      "displayName": "Jiajun Huang",
      "photoUrl": "https://lh3.googleusercontent.com/a-/AOh14Gj8d6e5ymd2N-ZwrN_XETFQJOZ5sI4sJOZY0d9zRQ=s64",
      "userId": "11643407900358403548"
     },
     "user_tz": -660
    },
    "id": "r8bqRNlIT2FL",
    "outputId": "99d5a025-b9f4-4711-fe99-0cf0ff756e60"
   },
   "outputs": [
    {
     "name": "stdout",
     "output_type": "stream",
     "text": [
      "4\n",
      "8\n"
     ]
    }
   ],
   "source": [
    "x += 1\n",
    "print(x)\n",
    "x *= 2\n",
    "print(x)"
   ]
  },
  {
   "cell_type": "code",
   "execution_count": null,
   "metadata": {
    "colab": {
     "base_uri": "https://localhost:8080/"
    },
    "collapsed": false,
    "executionInfo": {
     "elapsed": 929,
     "status": "ok",
     "timestamp": 1615361009682,
     "user": {
      "displayName": "Jiajun Huang",
      "photoUrl": "https://lh3.googleusercontent.com/a-/AOh14Gj8d6e5ymd2N-ZwrN_XETFQJOZ5sI4sJOZY0d9zRQ=s64",
      "userId": "11643407900358403548"
     },
     "user_tz": -660
    },
    "id": "bgrB5oW3UBtb",
    "outputId": "92b588c5-4c2e-4131-a7f0-43723b304382"
   },
   "outputs": [
    {
     "name": "stdout",
     "output_type": "stream",
     "text": [
      "<class 'float'>\n",
      "2.5 3.5 5.0 6.25\n"
     ]
    }
   ],
   "source": [
    "y = 2.5\n",
    "print(type(y))\n",
    "print(y, y + 1, y * 2, y ** 2)"
   ]
  },
  {
   "cell_type": "markdown",
   "metadata": {
    "id": "uMydpB7-U7Yx"
   },
   "source": [
    "2. Boolean： Python implements all of the usual operators for Boolean logic, but uses English words rather than symbols (`&&`, `||`, etc.):"
   ]
  },
  {
   "cell_type": "code",
   "execution_count": null,
   "metadata": {
    "colab": {
     "base_uri": "https://localhost:8080/"
    },
    "collapsed": false,
    "executionInfo": {
     "elapsed": 923,
     "status": "ok",
     "timestamp": 1615361009682,
     "user": {
      "displayName": "Jiajun Huang",
      "photoUrl": "https://lh3.googleusercontent.com/a-/AOh14Gj8d6e5ymd2N-ZwrN_XETFQJOZ5sI4sJOZY0d9zRQ=s64",
      "userId": "11643407900358403548"
     },
     "user_tz": -660
    },
    "id": "gvC8xhVrU6tS",
    "outputId": "89093a7e-3c19-4cfa-9d34-6c80b3ac8a19"
   },
   "outputs": [
    {
     "name": "stdout",
     "output_type": "stream",
     "text": [
      "<class 'bool'>\n"
     ]
    }
   ],
   "source": [
    "t, f = True, False\n",
    "print(type(t))"
   ]
  },
  {
   "cell_type": "code",
   "execution_count": null,
   "metadata": {
    "colab": {
     "base_uri": "https://localhost:8080/"
    },
    "collapsed": false,
    "executionInfo": {
     "elapsed": 917,
     "status": "ok",
     "timestamp": 1615361009683,
     "user": {
      "displayName": "Jiajun Huang",
      "photoUrl": "https://lh3.googleusercontent.com/a-/AOh14Gj8d6e5ymd2N-ZwrN_XETFQJOZ5sI4sJOZY0d9zRQ=s64",
      "userId": "11643407900358403548"
     },
     "user_tz": -660
    },
    "id": "_LB3hFvoVPW4",
    "outputId": "4ca1ed44-cc7f-47ac-fecb-fc51a9181134"
   },
   "outputs": [
    {
     "name": "stdout",
     "output_type": "stream",
     "text": [
      "False\n",
      "True\n",
      "False\n",
      "True\n"
     ]
    }
   ],
   "source": [
    "print(t and f) # Logical AND;\n",
    "print(t or f)  # Logical OR;\n",
    "print(not t)   # Logical NOT;\n",
    "print(t != f)  # Logical XOR;"
   ]
  },
  {
   "cell_type": "markdown",
   "metadata": {
    "id": "hu8onmNwVVd6"
   },
   "source": [
    "3. String"
   ]
  },
  {
   "cell_type": "code",
   "execution_count": null,
   "metadata": {
    "colab": {
     "base_uri": "https://localhost:8080/"
    },
    "collapsed": false,
    "executionInfo": {
     "elapsed": 912,
     "status": "ok",
     "timestamp": 1615361009684,
     "user": {
      "displayName": "Jiajun Huang",
      "photoUrl": "https://lh3.googleusercontent.com/a-/AOh14Gj8d6e5ymd2N-ZwrN_XETFQJOZ5sI4sJOZY0d9zRQ=s64",
      "userId": "11643407900358403548"
     },
     "user_tz": -660
    },
    "id": "4r_tA3nQVX5l",
    "outputId": "ee882327-2488-4d3a-f336-68590e00c2fd"
   },
   "outputs": [
    {
     "name": "stdout",
     "output_type": "stream",
     "text": [
      "hello 5\n"
     ]
    }
   ],
   "source": [
    "hello = 'hello'   # String literals can use single quotes\n",
    "world = \"world\"   # or double quotes; it does not matter\n",
    "print(hello, len(hello))"
   ]
  },
  {
   "cell_type": "code",
   "execution_count": null,
   "metadata": {
    "colab": {
     "base_uri": "https://localhost:8080/"
    },
    "collapsed": false,
    "executionInfo": {
     "elapsed": 1323,
     "status": "ok",
     "timestamp": 1615361010102,
     "user": {
      "displayName": "Jiajun Huang",
      "photoUrl": "https://lh3.googleusercontent.com/a-/AOh14Gj8d6e5ymd2N-ZwrN_XETFQJOZ5sI4sJOZY0d9zRQ=s64",
      "userId": "11643407900358403548"
     },
     "user_tz": -660
    },
    "id": "KS6hxlXErKNC",
    "outputId": "e8fe2e85-41ff-4b5d-d93d-34efe412c00a"
   },
   "outputs": [
    {
     "name": "stdout",
     "output_type": "stream",
     "text": [
      "hello world\n"
     ]
    }
   ],
   "source": [
    "hw = hello + ' ' + world  # String concatenation\n",
    "print(hw)"
   ]
  },
  {
   "cell_type": "code",
   "execution_count": null,
   "metadata": {
    "colab": {
     "base_uri": "https://localhost:8080/"
    },
    "collapsed": false,
    "executionInfo": {
     "elapsed": 1318,
     "status": "ok",
     "timestamp": 1615361010103,
     "user": {
      "displayName": "Jiajun Huang",
      "photoUrl": "https://lh3.googleusercontent.com/a-/AOh14Gj8d6e5ymd2N-ZwrN_XETFQJOZ5sI4sJOZY0d9zRQ=s64",
      "userId": "11643407900358403548"
     },
     "user_tz": -660
    },
    "id": "UKZB3iEdrKqr",
    "outputId": "ea0c7974-8deb-41f4-a56b-7f06ad2c544c"
   },
   "outputs": [
    {
     "name": "stdout",
     "output_type": "stream",
     "text": [
      "hello world 12\n"
     ]
    }
   ],
   "source": [
    "hw12 = '{} {} {}'.format(hello, world, 12)  # string formatting\n",
    "print(hw12)"
   ]
  },
  {
   "cell_type": "markdown",
   "metadata": {
    "id": "6InNHL2HrJMM"
   },
   "source": [
    "Note: a String type of number is different with a normal number!"
   ]
  },
  {
   "cell_type": "code",
   "execution_count": null,
   "metadata": {
    "colab": {
     "base_uri": "https://localhost:8080/"
    },
    "collapsed": false,
    "executionInfo": {
     "elapsed": 1313,
     "status": "ok",
     "timestamp": 1615361010103,
     "user": {
      "displayName": "Jiajun Huang",
      "photoUrl": "https://lh3.googleusercontent.com/a-/AOh14Gj8d6e5ymd2N-ZwrN_XETFQJOZ5sI4sJOZY0d9zRQ=s64",
      "userId": "11643407900358403548"
     },
     "user_tz": -660
    },
    "id": "G-WxXZswrVht",
    "outputId": "d70b6015-3d4c-4420-fc86-831c41587d5f"
   },
   "outputs": [
    {
     "name": "stdout",
     "output_type": "stream",
     "text": [
      "False\n",
      "8\n"
     ]
    }
   ],
   "source": [
    "print(\"7\" == 7)\n",
    "\n",
    "print(7+1)\n",
    "\n",
    "# uncomment the next line, try what happen\n",
    "#print(\"7\" + 1)"
   ]
  },
  {
   "cell_type": "markdown",
   "metadata": {
    "id": "C8qYWQppZeSg"
   },
   "source": [
    "## Defining Python List"
   ]
  },
  {
   "cell_type": "code",
   "execution_count": null,
   "metadata": {
    "colab": {
     "base_uri": "https://localhost:8080/"
    },
    "collapsed": false,
    "executionInfo": {
     "elapsed": 1308,
     "status": "ok",
     "timestamp": 1615361010104,
     "user": {
      "displayName": "Jiajun Huang",
      "photoUrl": "https://lh3.googleusercontent.com/a-/AOh14Gj8d6e5ymd2N-ZwrN_XETFQJOZ5sI4sJOZY0d9zRQ=s64",
      "userId": "11643407900358403548"
     },
     "user_tz": -660
    },
    "id": "Bv6lCsRRZeSi",
    "outputId": "a2604b38-5ca7-4fb1-9952-cfb692cdb88a"
   },
   "outputs": [
    {
     "name": "stdout",
     "output_type": "stream",
     "text": [
      "the result of print(x_list):\n",
      "[1, 2, 3, 4, 5, 6]\n",
      "the result of print(x_list[0])\n",
      "1\n",
      "the result of print(x_list[1])\n",
      "2\n",
      "the result of print(x_list[-1])\n",
      "6\n",
      "the result of print(x_list[-2])\n",
      "5\n",
      "the result of print(x_list[1:-2])\n",
      "[2, 3, 4]\n",
      "the result of print(x_list[0::2])\n",
      "[1, 3, 5]\n",
      "the result of adding 7\n",
      "[1, 2, 3, 4, 5, 6, 7]\n",
      "the result of adding hello world\n",
      "[1, 2, 3, 4, 5, 6, 7, 'hello world']\n",
      "{'a': 1, 'b': 2}\n",
      "1\n",
      "{1, 2}\n",
      "{1, 2}\n"
     ]
    }
   ],
   "source": [
    "x_list = [1, 2, 3, 4, 5, 6] #define a python list\n",
    "\n",
    "print(\"the result of print(x_list):\")\n",
    "print(x_list)\n",
    "\n",
    "print(\"the result of print(x_list[0])\")\n",
    "print(x_list[0]) #slicing\n",
    "\n",
    "print(\"the result of print(x_list[1])\")\n",
    "print(x_list[1]) #slicing\n",
    "\n",
    "print(\"the result of print(x_list[-1])\")\n",
    "print(x_list[-1]) #slicing\n",
    "\n",
    "print(\"the result of print(x_list[-2])\")\n",
    "print(x_list[-2]) #slicing\n",
    "\n",
    "print(\"the result of print(x_list[1:-2])\")\n",
    "print(x_list[1:-2]) #slicing \n",
    "\n",
    "print(\"the result of print(x_list[0::2])\")\n",
    "print(x_list[0::2]) #odd element\n",
    "\n",
    "# add new element to the list\n",
    "x_list.append(7)\n",
    "print(\"the result of adding 7\")\n",
    "print(x_list)\n",
    "\n",
    "# you can add any type of element to the list!\n",
    "x_list.append(\"hello world\")\n",
    "print(\"the result of adding hello world\")\n",
    "print(x_list)\n",
    "\n",
    "\n",
    "# different with list, dict is a key-content pair \n",
    "# in list, we use index to access the content corresponding that index\n",
    "# in dict, we use a specific key (key can be most of the type of data such as int, float, string. \n",
    "# However the key should be immutable, such that list cannot be a key of dict)\n",
    "x_dic = {} #define python dictionary\n",
    "x_dic['a'] = 1\n",
    "x_dic['b'] = 2\n",
    "print (x_dic)\n",
    "print (x_dic['a'])\n",
    "\n",
    "\n",
    "# set is a special case of list, that all duplicate elements will be removed.\n",
    "x_set = set() #define python set\n",
    "x_set.add(1)\n",
    "x_set.add(2)\n",
    "print (x_set)\n",
    "x_set.add(1)\n",
    "print (x_set)\n",
    " "
   ]
  },
  {
   "cell_type": "markdown",
   "metadata": {
    "id": "XQueM7tpZeSt"
   },
   "source": [
    "## Defining Python Matrix"
   ]
  },
  {
   "cell_type": "markdown",
   "metadata": {
    "id": "7OZwZz-cQjdQ"
   },
   "source": [
    "For deep learning, matrix calculation is an important trick to speed up the neural network training progresses (which we will learn late :) ).\n",
    "For now, we need to learn how to use matrix/vector and calculate them in python."
   ]
  },
  {
   "cell_type": "code",
   "execution_count": null,
   "metadata": {
    "colab": {
     "base_uri": "https://localhost:8080/"
    },
    "collapsed": false,
    "executionInfo": {
     "elapsed": 1304,
     "status": "ok",
     "timestamp": 1615361010104,
     "user": {
      "displayName": "Jiajun Huang",
      "photoUrl": "https://lh3.googleusercontent.com/a-/AOh14Gj8d6e5ymd2N-ZwrN_XETFQJOZ5sI4sJOZY0d9zRQ=s64",
      "userId": "11643407900358403548"
     },
     "user_tz": -660
    },
    "id": "4fz08ZfxZeSw",
    "outputId": "a4794265-a506-42b6-c618-c07bb578b5b8"
   },
   "outputs": [
    {
     "data": {
      "text/plain": [
       "[[13, 19, 17, 16, 10],\n",
       " [18, 12, 14, 16, 15],\n",
       " [20, 14, 15, 19, 18],\n",
       " [11, 11, 17, 18, 14],\n",
       " [12, 20, 12, 13, 17]]"
      ]
     },
     "execution_count": 23,
     "metadata": {
      "tags": []
     },
     "output_type": "execute_result"
    }
   ],
   "source": [
    "import random\n",
    "\n",
    "#define a matrix with dimension M * N\n",
    "def generate_matrix(m, n):\n",
    "    ls = []\n",
    "    for i in range(m): #generate outer dimension\n",
    "        sub_list = []\n",
    "        for j in range(n): #generate inner dimension\n",
    "            sub_list.append(random.randint(10, 20)) #random int in [10 to 20]\n",
    "        ls.append(sub_list)\n",
    "    return ls\n",
    "\n",
    "generate_matrix(5, 5)"
   ]
  },
  {
   "cell_type": "markdown",
   "metadata": {
    "id": "iEbjU856ZeS5"
   },
   "source": [
    "## Matrix Multiplication "
   ]
  },
  {
   "cell_type": "markdown",
   "metadata": {
    "id": "deg1aewXs1NG"
   },
   "source": [
    "if we two matrix:\n",
    "\n",
    "A = \n",
    "\n",
    "1,2,3\n",
    "\n",
    "4,5,6\n",
    "\n",
    "and B = \n",
    "\n",
    "7, 8\n",
    "\n",
    "9, 10\n",
    "\n",
    "10, 12\n",
    "\n",
    "A is a **2**x3 matrix and B is a 3x**2** matrix\n",
    "then their multiplication result is 2x2.\n",
    "\n",
    "The result is:\n",
    "\n",
    "58, 64\n",
    "\n",
    "139， 154\n",
    "\n",
    "1. 58： (1, 2, 3) • (7, 9, 11) = 1×7 + 2×9 + 3×11 = 58   note: each result is calculated by dot product\n",
    "2. 64:  (1, 2, 3) • (8, 10, 12) = 1×8 + 2×10 + 3×12 = 64\n",
    "3. 139:  (4, 5, 6) • (7, 9, 11) = 4×7 + 5×9 + 6×11 = 139\n",
    "4. 153: (4, 5, 6) • (8, 10, 12) = 4×8 + 5×10 + 6×12 = 154\n",
    "\n",
    "**notes**: given any two matrices m1 and m2, the size of m1 is H1 x W1, and the size of m2 is H2 x W2. For matrix multiplication of m1 and m2, e.g., m1 x m2, we need to make sure W1 == H2, and the size of the result will be H1 x W2. Like m2 x m1, we need to make sure W2 == H1, and the result will be H2 x W1.\n",
    "\n",
    "As we see, m1 x m2 != m2 x m1."
   ]
  },
  {
   "cell_type": "code",
   "execution_count": null,
   "metadata": {
    "colab": {
     "base_uri": "https://localhost:8080/"
    },
    "collapsed": false,
    "executionInfo": {
     "elapsed": 1301,
     "status": "ok",
     "timestamp": 1615361010105,
     "user": {
      "displayName": "Jiajun Huang",
      "photoUrl": "https://lh3.googleusercontent.com/a-/AOh14Gj8d6e5ymd2N-ZwrN_XETFQJOZ5sI4sJOZY0d9zRQ=s64",
      "userId": "11643407900358403548"
     },
     "user_tz": -660
    },
    "id": "WPU8NZvQZeS7",
    "outputId": "63d78edc-de4e-4102-a9d2-311d5e017ec0"
   },
   "outputs": [
    {
     "name": "stdout",
     "output_type": "stream",
     "text": [
      "the matrix 1 is:\n",
      "[[18, 14, 20, 20], [11, 18, 19, 17], [20, 14, 13, 10]]\n",
      "\n",
      "the matrix 2 is:\n",
      "[[16, 15, 18, 15, 15], [12, 12, 20, 13, 16], [16, 13, 10, 16, 15], [14, 12, 19, 13, 12]]\n",
      "\n",
      "the result of matrix multiplication\n"
     ]
    },
    {
     "data": {
      "text/plain": [
       "[[1056, 938, 1184, 1032, 1034],\n",
       " [934, 832, 1071, 924, 942],\n",
       " [836, 757, 960, 820, 839]]"
      ]
     },
     "execution_count": 24,
     "metadata": {
      "tags": []
     },
     "output_type": "execute_result"
    }
   ],
   "source": [
    "# matrix [i,j] * [j,k]\n",
    "\n",
    "def matrix_multiply(m1, m2):\n",
    "    if len(m1[0]) != len(m2): #dimension illegal check\n",
    "        return None\n",
    "    result = []\n",
    "    for i in range(len(m1)):\n",
    "        sub = []\n",
    "        for j in range(len(m2[0])):\n",
    "            v = 0\n",
    "            for k in range(len(m2)):\n",
    "                v += m1[i][k] * m2[k][j]\n",
    "            sub.append(v)\n",
    "        result.append(sub)\n",
    "    return result\n",
    "\n",
    "matrix1 = generate_matrix(3, 4)\n",
    "matrix2 = generate_matrix(4, 5)\n",
    "\n",
    "print(\"the matrix 1 is:\")\n",
    "print(matrix1)\n",
    "print()\n",
    "print(\"the matrix 2 is:\")\n",
    "print(matrix2)\n",
    "print()\n",
    "print(\"the result of matrix multiplication\")\n",
    "matrix_multiply(matrix1, matrix2)"
   ]
  },
  {
   "cell_type": "markdown",
   "metadata": {
    "id": "6JhXeUTqZeTC"
   },
   "source": [
    "# Numpy Operations\n",
    "\n",
    "with Numpy package, we can speed up the matrix multiplication without multiply and sum the elements one by one!"
   ]
  },
  {
   "cell_type": "markdown",
   "metadata": {
    "id": "k0H-lbvBZeTE"
   },
   "source": [
    "## Numpy Array"
   ]
  },
  {
   "cell_type": "code",
   "execution_count": null,
   "metadata": {
    "colab": {
     "base_uri": "https://localhost:8080/"
    },
    "collapsed": false,
    "executionInfo": {
     "elapsed": 1298,
     "status": "ok",
     "timestamp": 1615361010105,
     "user": {
      "displayName": "Jiajun Huang",
      "photoUrl": "https://lh3.googleusercontent.com/a-/AOh14Gj8d6e5ymd2N-ZwrN_XETFQJOZ5sI4sJOZY0d9zRQ=s64",
      "userId": "11643407900358403548"
     },
     "user_tz": -660
    },
    "id": "mGcEDjdcZeTH",
    "outputId": "a4a7278c-24b1-46a8-dffc-e37f948988f4"
   },
   "outputs": [
    {
     "name": "stdout",
     "output_type": "stream",
     "text": [
      "the result of generated matrix\n",
      "[[19 13 15 17 10]\n",
      " [16 13 18 11 13]\n",
      " [11 15 16 19 18]\n",
      " [10 19 19 17 14]\n",
      " [16 15 18 10 15]\n",
      " [11 16 11 10 14]\n",
      " [19 12 13 11 12]\n",
      " [15 13 14 15 15]\n",
      " [18 11 15 15 16]\n",
      " [10 14 10 19 19]]\n",
      "\n",
      "the result of matrix[0] (the first row of the matrix)\n",
      "[19 13 15 17 10]\n",
      "\n",
      "the result of matrix[:, 0] (the first column of the matrix)\n",
      "[19 16 11 10 16 11 19 15 18 10]\n",
      "\n",
      "the result of matrix[0::2]\n",
      "[[19 13 15 17 10]\n",
      " [11 15 16 19 18]\n",
      " [16 15 18 10 15]\n",
      " [19 12 13 11 12]\n",
      " [18 11 15 15 16]]\n"
     ]
    }
   ],
   "source": [
    "import numpy as np\n",
    "\n",
    "#array(m * n)\n",
    "def generate_numpy_matrix(m, n):\n",
    "    a = np.random.randint(10, size = m * n, dtype = np.int32) + 10 \n",
    "    a = a.reshape(m, n) # how to do this by raw python ?\n",
    "    return a\n",
    "\n",
    "matrix = generate_numpy_matrix(10, 5)\n",
    "\n",
    "print(\"the result of generated matrix\")\n",
    "print (matrix)\n",
    "print()\n",
    "print(\"the result of matrix[0] (the first row of the matrix)\")\n",
    "print (matrix[0]) # first row\n",
    "print()\n",
    "print(\"the result of matrix[:, 0] (the first column of the matrix)\")\n",
    "print (matrix[:, 0]) # first column\n",
    "print()\n",
    "print(\"the result of matrix[0::2]\")\n",
    "print (matrix[0::2]) # odd rows"
   ]
  },
  {
   "cell_type": "markdown",
   "metadata": {
    "id": "QzqpEmCUZeTM"
   },
   "source": [
    "## Numpy Matrix Multiplication\n",
    "we can convert a matrix to an numpy matrix such that we can perform matrix calculation as simple as doing number calculation."
   ]
  },
  {
   "cell_type": "code",
   "execution_count": null,
   "metadata": {
    "colab": {
     "base_uri": "https://localhost:8080/"
    },
    "collapsed": false,
    "executionInfo": {
     "elapsed": 1295,
     "status": "ok",
     "timestamp": 1615361010106,
     "user": {
      "displayName": "Jiajun Huang",
      "photoUrl": "https://lh3.googleusercontent.com/a-/AOh14Gj8d6e5ymd2N-ZwrN_XETFQJOZ5sI4sJOZY0d9zRQ=s64",
      "userId": "11643407900358403548"
     },
     "user_tz": -660
    },
    "id": "kJgbjDzdZeTP",
    "outputId": "2b2d4de4-402d-476e-f38d-d4b2fcbe16f0"
   },
   "outputs": [
    {
     "name": "stdout",
     "output_type": "stream",
     "text": [
      "the result of matrix1\n",
      "[[19 18 17 11]\n",
      " [14 15 16 16]\n",
      " [16 12 16 13]]\n",
      "\n",
      "the result of matrix2\n",
      "[[16 18 18 15 13]\n",
      " [16 18 14 18 14]\n",
      " [10 17 16 17 18]\n",
      " [18 13 19 12 10]]\n",
      "\n",
      "the result of np.matmul(m1,m2), which is doing matrix multiplication for two given matrix\n",
      "[[ 960 1098 1075 1030  915]\n",
      " [ 912 1002 1022  944  840]\n",
      " [ 842  945  959  884  794]]\n",
      "\n",
      "the result of matrix1 @ matrix2, similar to np.matmul(matrix1, matrix2)\n",
      "[[ 960 1098 1075 1030  915]\n",
      " [ 912 1002 1022  944  840]\n",
      " [ 842  945  959  884  794]]\n",
      "\n",
      "the result of matrix1 * 3 + 2\n",
      "[[59 56 53 35]\n",
      " [44 47 50 50]\n",
      " [50 38 50 41]]\n",
      "\n",
      "the result of matrix3\n",
      "[[18 13 12 18]\n",
      " [12 13 13 14]\n",
      " [12 17 12 17]]\n",
      "the result of matrix1*matrix3\n",
      "[[342 234 204 198]\n",
      " [168 195 208 224]\n",
      " [192 204 192 221]]\n"
     ]
    }
   ],
   "source": [
    "matrix1 = generate_numpy_matrix(3, 4)\n",
    "matrix2 = generate_numpy_matrix(4, 5)\n",
    "print(\"the result of matrix1\")\n",
    "print (matrix1)\n",
    "print()\n",
    "print(\"the result of matrix2\")\n",
    "print (matrix2)\n",
    "print()\n",
    "print(\"the result of np.matmul(m1,m2), which is doing matrix multiplication for two given matrix\")\n",
    "result = np.matmul(matrix1, matrix2)\n",
    "print (result)\n",
    "\n",
    "print()\n",
    "print(\"the result of matrix1 @ matrix2, similar to np.matmul(matrix1, matrix2)\")\n",
    "result = matrix1 @ matrix2 # for python3.5 or higher version\n",
    "print (result)\n",
    "\n",
    "print()\n",
    "print(\"the result of matrix1 * 3 + 2\")\n",
    "result = matrix1 * 3 + 2 # how can we do the same operation by using raw python ?\n",
    "print (result)\n",
    "\n",
    "\n",
    "matrix3 = generate_numpy_matrix(3, 4)\n",
    "result = matrix1 * matrix3 # dot multiplication\n",
    "\n",
    "print()\n",
    "print(\"the result of matrix3\")\n",
    "print (matrix3)\n",
    "print(\"the result of matrix1*matrix3\")\n",
    "print (result)"
   ]
  },
  {
   "cell_type": "markdown",
   "metadata": {
    "id": "XL8UAHMoZeTW"
   },
   "source": [
    "## Other  Numpy Operation"
   ]
  },
  {
   "cell_type": "code",
   "execution_count": null,
   "metadata": {
    "colab": {
     "base_uri": "https://localhost:8080/"
    },
    "collapsed": false,
    "executionInfo": {
     "elapsed": 1292,
     "status": "ok",
     "timestamp": 1615361010106,
     "user": {
      "displayName": "Jiajun Huang",
      "photoUrl": "https://lh3.googleusercontent.com/a-/AOh14Gj8d6e5ymd2N-ZwrN_XETFQJOZ5sI4sJOZY0d9zRQ=s64",
      "userId": "11643407900358403548"
     },
     "user_tz": -660
    },
    "id": "a1_9-3iiZeTY",
    "outputId": "d2b3f03e-4ef8-47bb-80e6-d6d72c7d25a8"
   },
   "outputs": [
    {
     "name": "stdout",
     "output_type": "stream",
     "text": [
      "\n",
      "the result of matrix1\n",
      "[[13 16 10 18]\n",
      " [11 17 19 18]\n",
      " [17 17 12 12]]\n",
      "\n",
      "the result of matrix2\n",
      "[[15 17 10 16]\n",
      " [11 12 15 12]\n",
      " [16 13 12 13]]\n",
      "\n",
      "the result of np.transpose(matrix1)\n",
      "[[13 11 17]\n",
      " [16 17 17]\n",
      " [10 19 12]\n",
      " [18 18 12]]\n",
      "\n",
      "the result of matrix1.T\n",
      "[[13 11 17]\n",
      " [16 17 17]\n",
      " [10 19 12]\n",
      " [18 18 12]]\n",
      "\n",
      "the result of np.sum(matrix1)\n",
      "180\n",
      "\n",
      "the result of np.sum(matrix1, axis = 1). What is the result if we set axis to 0?\n",
      "[57 65 58]\n",
      "\n",
      "the result of np.vstack([matrix1, matrix2])\n",
      "[[13 16 10 18]\n",
      " [11 17 19 18]\n",
      " [17 17 12 12]\n",
      " [15 17 10 16]\n",
      " [11 12 15 12]\n",
      " [16 13 12 13]]\n",
      "\n",
      "the result of np.hstack([matrix1, matrix2])\n",
      "[[13 16 10 18 15 17 10 16]\n",
      " [11 17 19 18 11 12 15 12]\n",
      " [17 17 12 12 16 13 12 13]]\n"
     ]
    }
   ],
   "source": [
    "matrix1 = generate_numpy_matrix(3, 4)\n",
    "matrix2 = generate_numpy_matrix(3, 4)\n",
    "print()\n",
    "print(\"the result of matrix1\")\n",
    "print(matrix1)\n",
    "print()\n",
    "print(\"the result of matrix2\")\n",
    "print(matrix2)\n",
    "\n",
    "print()\n",
    "print(\"the result of np.transpose(matrix1)\")\n",
    "print (np.transpose(matrix1)) # matrix transpose\n",
    "print()\n",
    "print(\"the result of matrix1.T\")\n",
    "print (matrix1.T) #for python3.5 or higher version\n",
    "\n",
    "\n",
    "print()\n",
    "print(\"the result of np.sum(matrix1)\")\n",
    "print (np.sum(matrix1)) # sum \n",
    "print()\n",
    "print(\"the result of np.sum(matrix1, axis = 1). What is the result if we set axis to 0?\")\n",
    "print (np.sum(matrix1, axis = 1)) # column sum\n",
    "print()\n",
    "print(\"the result of np.vstack([matrix1, matrix2])\")\n",
    "print (np.vstack([matrix1, matrix2])) # combine two matrix in row\n",
    "print()\n",
    "print(\"the result of np.hstack([matrix1, matrix2])\")\n",
    "print (np.hstack([matrix1, matrix2])) # combine tow matrix in column\n"
   ]
  },
  {
   "cell_type": "markdown",
   "metadata": {
    "id": "8DkG-_ljZeTh"
   },
   "source": [
    "# PyTorch: Getting started"
   ]
  },
  {
   "cell_type": "code",
   "execution_count": null,
   "metadata": {
    "collapsed": true,
    "id": "C__l5zIWbCa_"
   },
   "outputs": [],
   "source": [
    "import torch"
   ]
  },
  {
   "cell_type": "markdown",
   "metadata": {
    "id": "X52XHwPFZeTj"
   },
   "source": [
    "## Tensors\n",
    "Construct a 5x3 zero matrix:"
   ]
  },
  {
   "cell_type": "code",
   "execution_count": null,
   "metadata": {
    "colab": {
     "base_uri": "https://localhost:8080/"
    },
    "collapsed": false,
    "executionInfo": {
     "elapsed": 4994,
     "status": "ok",
     "timestamp": 1615361013815,
     "user": {
      "displayName": "Jiajun Huang",
      "photoUrl": "https://lh3.googleusercontent.com/a-/AOh14Gj8d6e5ymd2N-ZwrN_XETFQJOZ5sI4sJOZY0d9zRQ=s64",
      "userId": "11643407900358403548"
     },
     "user_tz": -660
    },
    "id": "Sl5sDclHZeTl",
    "outputId": "1aa3ddf2-f168-42ac-a2f0-b3fabe50db39"
   },
   "outputs": [
    {
     "name": "stdout",
     "output_type": "stream",
     "text": [
      "tensor([[0., 0., 0.],\n",
      "        [0., 0., 0.],\n",
      "        [0., 0., 0.],\n",
      "        [0., 0., 0.],\n",
      "        [0., 0., 0.]])\n"
     ]
    }
   ],
   "source": [
    "x = torch.zeros(5, 3)\n",
    "print(x)"
   ]
  },
  {
   "cell_type": "markdown",
   "metadata": {
    "id": "6hyEwip4bCbN"
   },
   "source": [
    "Construct a randomly initialized matrix:"
   ]
  },
  {
   "cell_type": "code",
   "execution_count": null,
   "metadata": {
    "colab": {
     "base_uri": "https://localhost:8080/"
    },
    "collapsed": false,
    "executionInfo": {
     "elapsed": 4991,
     "status": "ok",
     "timestamp": 1615361013816,
     "user": {
      "displayName": "Jiajun Huang",
      "photoUrl": "https://lh3.googleusercontent.com/a-/AOh14Gj8d6e5ymd2N-ZwrN_XETFQJOZ5sI4sJOZY0d9zRQ=s64",
      "userId": "11643407900358403548"
     },
     "user_tz": -660
    },
    "id": "Vy7A85ZVZeTq",
    "outputId": "4a84e764-6262-454c-fa09-0d8d28fa2b94"
   },
   "outputs": [
    {
     "name": "stdout",
     "output_type": "stream",
     "text": [
      "tensor([[0.6598, 0.6122, 0.0784],\n",
      "        [0.3562, 0.7157, 0.6081],\n",
      "        [0.9704, 0.5284, 0.8483],\n",
      "        [0.9474, 0.3911, 0.8751],\n",
      "        [0.3879, 0.9093, 0.6586]])\n"
     ]
    }
   ],
   "source": [
    "x = torch.rand(5, 3)\n",
    "print(x)"
   ]
  },
  {
   "cell_type": "markdown",
   "metadata": {
    "id": "lWYf46I0bCbT"
   },
   "source": [
    "Construct a tensor directly from python list:"
   ]
  },
  {
   "cell_type": "code",
   "execution_count": null,
   "metadata": {
    "colab": {
     "base_uri": "https://localhost:8080/"
    },
    "collapsed": false,
    "executionInfo": {
     "elapsed": 4989,
     "status": "ok",
     "timestamp": 1615361013817,
     "user": {
      "displayName": "Jiajun Huang",
      "photoUrl": "https://lh3.googleusercontent.com/a-/AOh14Gj8d6e5ymd2N-ZwrN_XETFQJOZ5sI4sJOZY0d9zRQ=s64",
      "userId": "11643407900358403548"
     },
     "user_tz": -660
    },
    "id": "FSF5K48vNoOz",
    "outputId": "0d8fdbd6-c9bd-4c48-d132-76f324e56328"
   },
   "outputs": [
    {
     "name": "stdout",
     "output_type": "stream",
     "text": [
      "tensor([5.5000, 3.0000])\n"
     ]
    }
   ],
   "source": [
    "x = torch.tensor([5.5, 3])\n",
    "print(x)"
   ]
  },
  {
   "cell_type": "markdown",
   "metadata": {
    "id": "DNpZH1GibCbZ"
   },
   "source": [
    "Construct a tensor directly from numpy matrix:"
   ]
  },
  {
   "cell_type": "code",
   "execution_count": null,
   "metadata": {
    "colab": {
     "base_uri": "https://localhost:8080/"
    },
    "collapsed": false,
    "executionInfo": {
     "elapsed": 16134,
     "status": "ok",
     "timestamp": 1615361024965,
     "user": {
      "displayName": "Jiajun Huang",
      "photoUrl": "https://lh3.googleusercontent.com/a-/AOh14Gj8d6e5ymd2N-ZwrN_XETFQJOZ5sI4sJOZY0d9zRQ=s64",
      "userId": "11643407900358403548"
     },
     "user_tz": -660
    },
    "id": "ASzJ3fX4bCba",
    "outputId": "e0031603-ce48-4f6e-bba1-60fe1ebdd96e",
    "scrolled": true
   },
   "outputs": [
    {
     "name": "stdout",
     "output_type": "stream",
     "text": [
      "tensor([[10, 15, 13],\n",
      "        [14, 15, 16],\n",
      "        [15, 15, 14],\n",
      "        [11, 16, 18],\n",
      "        [19, 11, 10]], dtype=torch.int32)\n",
      "cpu\n",
      "cuda:0\n"
     ]
    }
   ],
   "source": [
    "np_matrix = generate_numpy_matrix(5, 3)\n",
    "x = torch.tensor(np_matrix)\n",
    "print(x)\n",
    "print(x.device)\n",
    "x_gpu = x.to('cuda')\n",
    "print(x_gpu.device)"
   ]
  },
  {
   "cell_type": "markdown",
   "metadata": {
    "id": "Upq-UFQxbCbg"
   },
   "source": [
    "## Operations\n",
    "There are multiple syntaxes for operations. Thanks to the pythonic design of PyTorch, we can perfrom most numerical operations betwen tensors using python syntax."
   ]
  },
  {
   "cell_type": "code",
   "execution_count": null,
   "metadata": {
    "colab": {
     "base_uri": "https://localhost:8080/"
    },
    "collapsed": false,
    "executionInfo": {
     "elapsed": 16132,
     "status": "ok",
     "timestamp": 1615361024966,
     "user": {
      "displayName": "Jiajun Huang",
      "photoUrl": "https://lh3.googleusercontent.com/a-/AOh14Gj8d6e5ymd2N-ZwrN_XETFQJOZ5sI4sJOZY0d9zRQ=s64",
      "userId": "11643407900358403548"
     },
     "user_tz": -660
    },
    "id": "n7oVOPdabCbj",
    "outputId": "85a44c1f-acd6-466b-8ad2-67176d4260e0"
   },
   "outputs": [
    {
     "name": "stdout",
     "output_type": "stream",
     "text": [
      "tensor([[1.1593, 1.5271, 1.4615],\n",
      "        [1.3420, 1.0367, 1.7000],\n",
      "        [1.5314, 0.8884, 1.4251]])\n",
      "tensor([[0.3346, 0.5816, 0.5222],\n",
      "        [0.4351, 0.2679, 0.7217],\n",
      "        [0.5556, 0.1896, 0.4566]])\n",
      "tensor([[1.5566, 1.2169, 1.7595],\n",
      "        [1.5137, 1.1334, 1.6872],\n",
      "        [1.0610, 0.8822, 1.2446]])\n"
     ]
    }
   ],
   "source": [
    "x = torch.rand(3, 3)\n",
    "y = torch.rand(3, 3)\n",
    "z = x+y\n",
    "print(z)\n",
    "\n",
    "# element-wise multiplication\n",
    "z = x*y\n",
    "print(z)\n",
    "\n",
    "# matrix product\n",
    "z = torch.mm(x, y)\n",
    "print(z)\n"
   ]
  },
  {
   "cell_type": "markdown",
   "metadata": {
    "id": "aEeXJIDwbCbm"
   },
   "source": [
    "PyTorch tensors support numpy-like slicing."
   ]
  },
  {
   "cell_type": "code",
   "execution_count": null,
   "metadata": {
    "colab": {
     "base_uri": "https://localhost:8080/"
    },
    "collapsed": false,
    "executionInfo": {
     "elapsed": 16129,
     "status": "ok",
     "timestamp": 1615361024966,
     "user": {
      "displayName": "Jiajun Huang",
      "photoUrl": "https://lh3.googleusercontent.com/a-/AOh14Gj8d6e5ymd2N-ZwrN_XETFQJOZ5sI4sJOZY0d9zRQ=s64",
      "userId": "11643407900358403548"
     },
     "user_tz": -660
    },
    "id": "f2sDtLOybCbp",
    "outputId": "8fdca759-8ed7-4222-f5d7-1fc62d13c1c2"
   },
   "outputs": [
    {
     "name": "stdout",
     "output_type": "stream",
     "text": [
      "tensor([0.8013, 0.4902, 0.3562])\n"
     ]
    }
   ],
   "source": [
    "print(x[:, 1]) # print everything on 1st index of rank 1."
   ]
  },
  {
   "cell_type": "markdown",
   "metadata": {
    "id": "wPP__HbAbCbz"
   },
   "source": [
    "Reshaping a tensor is easy."
   ]
  },
  {
   "cell_type": "code",
   "execution_count": null,
   "metadata": {
    "colab": {
     "base_uri": "https://localhost:8080/"
    },
    "collapsed": false,
    "executionInfo": {
     "elapsed": 16127,
     "status": "ok",
     "timestamp": 1615361024967,
     "user": {
      "displayName": "Jiajun Huang",
      "photoUrl": "https://lh3.googleusercontent.com/a-/AOh14Gj8d6e5ymd2N-ZwrN_XETFQJOZ5sI4sJOZY0d9zRQ=s64",
      "userId": "11643407900358403548"
     },
     "user_tz": -660
    },
    "id": "AJK40M6SbCb1",
    "outputId": "a6a3b051-377a-4bc9-8cc9-24d3efcd649d"
   },
   "outputs": [
    {
     "name": "stdout",
     "output_type": "stream",
     "text": [
      "torch.Size([4, 4]) torch.Size([16]) torch.Size([2, 8])\n"
     ]
    }
   ],
   "source": [
    "x = torch.randn(4, 4)\n",
    "y = x.view(16)\n",
    "z = x.view(-1, 8)  # the size -1 is inferred from other dimensions\n",
    "print(x.size(), y.size(), z.size())"
   ]
  },
  {
   "cell_type": "markdown",
   "metadata": {
    "id": "0jXIvop3ZeU6"
   },
   "source": [
    "# Exercises "
   ]
  },
  {
   "cell_type": "markdown",
   "metadata": {
    "id": "l0WeTrZNZeU8"
   },
   "source": [
    "implementing y = $abs((w_1x + b_1)\\bullet(w_2x + b_2))$\n",
    "* where x is a random input matrix, with shape [32, 256].\n",
    "* w, b are the random variables generated by PyTorch.\n",
    "* y is the output, with shape [32, 10]"
   ]
  },
  {
   "cell_type": "code",
   "execution_count": null,
   "metadata": {
    "collapsed": true,
    "id": "DzwhA1LgbCb8"
   },
   "outputs": [],
   "source": []
  }
 ],
 "metadata": {
  "accelerator": "GPU",
  "colab": {
   "collapsed_sections": [],
   "name": "1-python_pytorch.ipynb",
   "provenance": []
  },
  "kernelspec": {
   "display_name": "Python 3",
   "language": "python",
   "name": "python3"
  },
  "language_info": {
   "codemirror_mode": {
    "name": "ipython",
    "version": 3
   },
   "file_extension": ".py",
   "mimetype": "text/x-python",
   "name": "python",
   "nbconvert_exporter": "python",
   "pygments_lexer": "ipython3",
   "version": "3.5.5"
  }
 },
 "nbformat": 4,
 "nbformat_minor": 0
}
